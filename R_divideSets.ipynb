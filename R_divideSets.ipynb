{
 "cells": [
  {
   "cell_type": "code",
   "execution_count": 4,
   "metadata": {},
   "outputs": [],
   "source": [
    "library(dplyr)"
   ]
  },
  {
   "cell_type": "code",
   "execution_count": 5,
   "metadata": {},
   "outputs": [],
   "source": [
    "dt = read.csv(\"dt2_9385581.csv\",encoding = \"CP949\")"
   ]
  },
  {
   "cell_type": "code",
   "execution_count": 6,
   "metadata": {},
   "outputs": [
    {
     "data": {
      "text/html": [
       "<table>\n",
       "<thead><tr><th scope=col>X</th><th scope=col>dist</th><th scope=col>date</th><th scope=col>hour</th><th scope=col>lanes</th><th scope=col>max_speed</th><th scope=col>prep</th><th scope=col>humid</th><th scope=col>temp</th><th scope=col>skyCon</th><th scope=col>prepCon</th><th scope=col>public</th><th scope=col>industrial</th><th scope=col>cultural</th><th scope=col>agriMarin</th><th scope=col>commercial</th><th scope=col>residental</th><th scope=col>etc</th><th scope=col>weekday</th><th scope=col>speed</th></tr></thead>\n",
       "<tbody>\n",
       "\t<tr><td>0         </td><td>1179      </td><td>20171101  </td><td>6         </td><td>1         </td><td>60        </td><td>0         </td><td>65        </td><td>16.2      </td><td>4         </td><td>0         </td><td>0         </td><td>0         </td><td>0.03508772</td><td>0         </td><td>0.2412281 </td><td>0.7236842 </td><td>0         </td><td>수        </td><td>43.69     </td></tr>\n",
       "\t<tr><td>1         </td><td>1179      </td><td>20171101  </td><td>7         </td><td>1         </td><td>60        </td><td>0         </td><td>68        </td><td>15.6      </td><td>4         </td><td>0         </td><td>0         </td><td>0         </td><td>0.03508772</td><td>0         </td><td>0.2412281 </td><td>0.7236842 </td><td>0         </td><td>수        </td><td>40.54     </td></tr>\n",
       "\t<tr><td>2         </td><td>1179      </td><td>20171101  </td><td>8         </td><td>1         </td><td>60        </td><td>0         </td><td>73        </td><td>15.0      </td><td>4         </td><td>0         </td><td>0         </td><td>0         </td><td>0.03508772</td><td>0         </td><td>0.2412281 </td><td>0.7236842 </td><td>0         </td><td>수        </td><td>35.80     </td></tr>\n",
       "</tbody>\n",
       "</table>\n"
      ],
      "text/latex": [
       "\\begin{tabular}{r|llllllllllllllllllll}\n",
       " X & dist & date & hour & lanes & max\\_speed & prep & humid & temp & skyCon & prepCon & public & industrial & cultural & agriMarin & commercial & residental & etc & weekday & speed\\\\\n",
       "\\hline\n",
       "\t 0          & 1179       & 20171101   & 6          & 1          & 60         & 0          & 65         & 16.2       & 4          & 0          & 0          & 0          & 0.03508772 & 0          & 0.2412281  & 0.7236842  & 0          & 수         & 43.69     \\\\\n",
       "\t 1          & 1179       & 20171101   & 7          & 1          & 60         & 0          & 68         & 15.6       & 4          & 0          & 0          & 0          & 0.03508772 & 0          & 0.2412281  & 0.7236842  & 0          & 수         & 40.54     \\\\\n",
       "\t 2          & 1179       & 20171101   & 8          & 1          & 60         & 0          & 73         & 15.0       & 4          & 0          & 0          & 0          & 0.03508772 & 0          & 0.2412281  & 0.7236842  & 0          & 수         & 35.80     \\\\\n",
       "\\end{tabular}\n"
      ],
      "text/markdown": [
       "\n",
       "X | dist | date | hour | lanes | max_speed | prep | humid | temp | skyCon | prepCon | public | industrial | cultural | agriMarin | commercial | residental | etc | weekday | speed | \n",
       "|---|---|---|\n",
       "| 0          | 1179       | 20171101   | 6          | 1          | 60         | 0          | 65         | 16.2       | 4          | 0          | 0          | 0          | 0.03508772 | 0          | 0.2412281  | 0.7236842  | 0          | 수         | 43.69      | \n",
       "| 1          | 1179       | 20171101   | 7          | 1          | 60         | 0          | 68         | 15.6       | 4          | 0          | 0          | 0          | 0.03508772 | 0          | 0.2412281  | 0.7236842  | 0          | 수         | 40.54      | \n",
       "| 2          | 1179       | 20171101   | 8          | 1          | 60         | 0          | 73         | 15.0       | 4          | 0          | 0          | 0          | 0.03508772 | 0          | 0.2412281  | 0.7236842  | 0          | 수         | 35.80      | \n",
       "\n",
       "\n"
      ],
      "text/plain": [
       "  X dist date     hour lanes max_speed prep humid temp skyCon prepCon public\n",
       "1 0 1179 20171101 6    1     60        0    65    16.2 4      0       0     \n",
       "2 1 1179 20171101 7    1     60        0    68    15.6 4      0       0     \n",
       "3 2 1179 20171101 8    1     60        0    73    15.0 4      0       0     \n",
       "  industrial cultural   agriMarin commercial residental etc weekday speed\n",
       "1 0          0.03508772 0         0.2412281  0.7236842  0   수      43.69\n",
       "2 0          0.03508772 0         0.2412281  0.7236842  0   수      40.54\n",
       "3 0          0.03508772 0         0.2412281  0.7236842  0   수      35.80"
      ]
     },
     "metadata": {},
     "output_type": "display_data"
    }
   ],
   "source": [
    "head(dt,3)"
   ]
  },
  {
   "cell_type": "code",
   "execution_count": 7,
   "metadata": {
    "collapsed": true
   },
   "outputs": [
    {
     "name": "stdout",
     "output_type": "stream",
     "text": [
      "'data.frame':\t9385581 obs. of  20 variables:\n",
      " $ X         : int  0 1 2 3 4 5 6 7 8 9 ...\n",
      " $ dist      : int  1179 1179 1179 1179 1179 1179 1179 1179 1179 1179 ...\n",
      " $ date      : int  20171101 20171101 20171101 20171101 20171101 20171101 20171101 20171101 20171101 20171101 ...\n",
      " $ hour      : int  6 7 8 9 10 11 12 13 14 15 ...\n",
      " $ lanes     : num  1 1 1 1 1 1 1 1 1 1 ...\n",
      " $ max_speed : num  60 60 60 60 60 60 60 60 60 60 ...\n",
      " $ prep      : num  0 0 0 0 0 0 0 0 0 0 ...\n",
      " $ humid     : num  65 68 73 77 80 82 83 84 86 86 ...\n",
      " $ temp      : num  16.2 15.6 15 14.3 14 ...\n",
      " $ skyCon    : num  4 4 4 4 4 4 4 4 4 4 ...\n",
      " $ prepCon   : num  0 0 0 0 0 0 0 0 0 0 ...\n",
      " $ public    : num  0 0 0 0 0 0 0 0 0 0 ...\n",
      " $ industrial: num  0 0 0 0 0 0 0 0 0 0 ...\n",
      " $ cultural  : num  0.0351 0.0351 0.0351 0.0351 0.0351 ...\n",
      " $ agriMarin : num  0 0 0 0 0 0 0 0 0 0 ...\n",
      " $ commercial: num  0.241 0.241 0.241 0.241 0.241 ...\n",
      " $ residental: num  0.724 0.724 0.724 0.724 0.724 ...\n",
      " $ etc       : num  0 0 0 0 0 0 0 0 0 0 ...\n",
      " $ weekday   : Factor w/ 7 levels \"금\",\"목\",\"수\",..: 3 3 3 3 3 3 3 3 3 3 ...\n",
      " $ speed     : num  43.7 40.5 35.8 29.9 32.5 ...\n"
     ]
    }
   ],
   "source": [
    "str(dt)"
   ]
  },
  {
   "cell_type": "markdown",
   "metadata": {},
   "source": [
    "#### 요일 나누기"
   ]
  },
  {
   "cell_type": "code",
   "execution_count": 8,
   "metadata": {},
   "outputs": [],
   "source": [
    "dt <- dt %>% mutate(weekdiv = ifelse(dt$weekday ==\"월\" |\n",
    "                                    dt$weekday ==\"화\" |\n",
    "                                    dt$weekday ==\"수\" |\n",
    "                                    dt$weekday ==\"목\",1,ifelse(dt$weekday==\"금\",2,ifelse(dt$weekday==\"토\",3,4))))"
   ]
  },
  {
   "cell_type": "markdown",
   "metadata": {},
   "source": [
    "#### 시간대 나누기"
   ]
  },
  {
   "cell_type": "code",
   "execution_count": 9,
   "metadata": {},
   "outputs": [],
   "source": [
    "dt <- dt %>% mutate(timeslot = ifelse(dt$hour >=7 & dt$hour<10,\"gowork\",\n",
    "                                       ifelse(dt$hour>=10 &  dt$hour < 17, \"active\",\n",
    "                                             ifelse(dt$hour>=17 & dt$hour < 20,\"offwork\",\"nonactive\"))))"
   ]
  },
  {
   "cell_type": "code",
   "execution_count": 10,
   "metadata": {},
   "outputs": [],
   "source": [
    "timeslotlevels = c(\"gowork\",\"active\",\"offwork\",\"nonactive\")"
   ]
  },
  {
   "cell_type": "code",
   "execution_count": 12,
   "metadata": {},
   "outputs": [
    {
     "name": "stdout",
     "output_type": "stream",
     "text": [
      "[1] \"dt_weekday1_gowork rows : 895330, percent :0.095, cumsum : 895330, cumper : 0.095\"\n",
      "[1] \"dt_weekday1_active rows : 2090021, percent :0.223, cumsum : 2985351, cumper : 0.318\"\n",
      "[1] \"dt_weekday1_offwork rows : 895489, percent :0.095, cumsum : 3880840, cumper : 0.413\"\n",
      "[1] \"dt_weekday1_nonactive rows : 1489157, percent :0.159, cumsum : 5369997, cumper : 0.572\"\n",
      "[1] \"dt_weekday2_gowork rows : 225868, percent :0.024, cumsum : 5595865, cumper : 0.596\"\n",
      "[1] \"dt_weekday2_active rows : 527180, percent :0.056, cumsum : 6123045, cumper : 0.652\"\n",
      "[1] \"dt_weekday2_offwork rows : 225900, percent :0.024, cumsum : 6348945, cumper : 0.676\"\n",
      "[1] \"dt_weekday2_nonactive rows : 375931, percent :0.04, cumsum : 6724876, cumper : 0.717\"\n",
      "[1] \"dt_weekday3_gowork rows : 221722, percent :0.024, cumsum : 6946598, cumper : 0.74\"\n",
      "[1] \"dt_weekday3_active rows : 522512, percent :0.056, cumsum : 7469110, cumper : 0.796\"\n",
      "[1] \"dt_weekday3_offwork rows : 225118, percent :0.024, cumsum : 7694228, cumper : 0.82\"\n",
      "[1] \"dt_weekday3_nonactive rows : 373863, percent :0.04, cumsum : 8068091, cumper : 0.86\"\n",
      "[1] \"dt_weekday4_gowork rows : 221361, percent :0.024, cumsum : 8289452, cumper : 0.883\"\n",
      "[1] \"dt_weekday4_active rows : 515379, percent :0.055, cumsum : 8804831, cumper : 0.938\"\n",
      "[1] \"dt_weekday4_offwork rows : 217456, percent :0.023, cumsum : 9022287, cumper : 0.961\"\n",
      "[1] \"dt_weekday4_nonactive rows : 363294, percent :0.039, cumsum : 9385581, cumper : 1\"\n"
     ]
    }
   ],
   "source": [
    "cumsum <- 0\n",
    "cumper <- 0\n",
    "for(i in 1:4){\n",
    "    for(j in 1:4){\n",
    "        dtfilter <- dt %>% filter(dt$weekdiv ==i & dt$timeslot== timeslotlevels[j])\n",
    "        cumsum <- cumsum + nrow(dtfilter)\n",
    "        cumper <- cumper + nrow(dtfilter)/9385581\n",
    "        write.csv(dtfilter,paste0(\"data/dt_weekday\",i,\"_\",timeslotlevels[j],\".csv\"))\n",
    "        print(paste0(\"dt_weekday\",i,\"_\",timeslotlevels[j],\" rows : \",nrow(dtfilter),\", percent :\",round(nrow(dtfilter)/9385581,3),\n",
    "                    \", cumsum : \",cumsum,\", cumper : \",round(cumper,3)))\n",
    "    }\n",
    "}"
   ]
  }
 ],
 "metadata": {
  "kernelspec": {
   "display_name": "R",
   "language": "R",
   "name": "ir"
  },
  "language_info": {
   "codemirror_mode": "r",
   "file_extension": ".r",
   "mimetype": "text/x-r-source",
   "name": "R",
   "pygments_lexer": "r",
   "version": "3.3.2"
  }
 },
 "nbformat": 4,
 "nbformat_minor": 2
}
