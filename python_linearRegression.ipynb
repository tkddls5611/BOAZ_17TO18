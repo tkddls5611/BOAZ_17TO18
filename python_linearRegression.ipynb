{
 "cells": [
  {
   "cell_type": "code",
   "execution_count": 19,
   "metadata": {},
   "outputs": [],
   "source": [
    "import numpy as np\n",
    "import pandas as pd\n",
    "import matplotlib.pyplot as plt\n",
    "import matplotlib as mpl\n",
    "from sklearn.linear_model import LinearRegression\n",
    "from sklearn.model_selection import train_test_split\n",
    "from sklearn.metrics import mean_squared_error\n",
    "from sklearn.metrics import r2_score\n",
    "import random"
   ]
  },
  {
   "cell_type": "code",
   "execution_count": 2,
   "metadata": {},
   "outputs": [],
   "source": [
    "dt = pd.read_csv(\"dt2_9385581.csv\")"
   ]
  },
  {
   "cell_type": "code",
   "execution_count": 3,
   "metadata": {},
   "outputs": [
    {
     "data": {
      "text/plain": [
       "Index(['Unnamed: 0', 'dist', 'date', 'hour', 'lanes', 'max_speed', 'prep',\n",
       "       'humid', 'temp', 'skyCon', 'prepCon', 'public', 'industrial',\n",
       "       'cultural', 'agriMarin', 'commercial', 'residental', 'etc', 'weekday',\n",
       "       'speed'],\n",
       "      dtype='object')"
      ]
     },
     "execution_count": 3,
     "metadata": {},
     "output_type": "execute_result"
    }
   ],
   "source": [
    "dt.columns"
   ]
  },
  {
   "cell_type": "code",
   "execution_count": 4,
   "metadata": {},
   "outputs": [],
   "source": [
    "dt = dt.drop('Unnamed: 0',axis=1)"
   ]
  },
  {
   "cell_type": "code",
   "execution_count": 6,
   "metadata": {},
   "outputs": [],
   "source": [
    "catagorial_feature_names = ['lanes','skyCon','prepCon','weekday']\n",
    "\n",
    "for var in catagorial_feature_names :\n",
    "    dt[var] = dt[var].astype(\"category\")"
   ]
  },
  {
   "cell_type": "markdown",
   "metadata": {},
   "source": [
    "### EDA continue"
   ]
  },
  {
   "cell_type": "code",
   "execution_count": 7,
   "metadata": {},
   "outputs": [],
   "source": [
    "dt = pd.get_dummies(dt)"
   ]
  },
  {
   "cell_type": "code",
   "execution_count": 9,
   "metadata": {},
   "outputs": [
    {
     "data": {
      "text/plain": [
       "Index(['dist', 'date', 'hour', 'max_speed', 'prep', 'humid', 'temp', 'public',\n",
       "       'industrial', 'cultural', 'agriMarin', 'commercial', 'residental',\n",
       "       'etc', 'speed', 'lanes_1.0', 'lanes_2.0', 'lanes_3.0', 'lanes_4.0',\n",
       "       'lanes_5.0', 'lanes_6.0', 'lanes_7.0', 'skyCon_1.0', 'skyCon_2.0',\n",
       "       'skyCon_3.0', 'skyCon_4.0', 'prepCon_0.0', 'prepCon_1.0', 'prepCon_2.0',\n",
       "       'prepCon_3.0', 'weekday_금', 'weekday_목', 'weekday_수', 'weekday_월',\n",
       "       'weekday_일', 'weekday_토', 'weekday_화'],\n",
       "      dtype='object')"
      ]
     },
     "execution_count": 9,
     "metadata": {},
     "output_type": "execute_result"
    }
   ],
   "source": [
    "dt.columns"
   ]
  },
  {
   "cell_type": "markdown",
   "metadata": {},
   "source": [
    "### divide train and test (skip 1 code)"
   ]
  },
  {
   "cell_type": "code",
   "execution_count": 13,
   "metadata": {},
   "outputs": [],
   "source": [
    "dt = dt.drop('date',axis=1)"
   ]
  },
  {
   "cell_type": "code",
   "execution_count": 14,
   "metadata": {},
   "outputs": [],
   "source": [
    "speed = np.array(dt['speed'])\n",
    "\n",
    "dt2 = dt.drop('speed',axis=1)\n",
    "\n",
    "dt2_list = list(dt2.columns)\n",
    "\n",
    "dt2 = np.array(dt2)"
   ]
  },
  {
   "cell_type": "code",
   "execution_count": 15,
   "metadata": {},
   "outputs": [],
   "source": [
    "X_train, X_test, y_train, y_test = train_test_split(dt2, speed, test_size=0.2)"
   ]
  },
  {
   "cell_type": "code",
   "execution_count": 16,
   "metadata": {},
   "outputs": [
    {
     "name": "stdout",
     "output_type": "stream",
     "text": [
      "Training dt3 Shape: (7508464, 35)\n",
      "Training speed Shape: (7508464,)\n",
      "Testing dt3 Shape: (1877117, 35)\n",
      "Testing speed Shape: (1877117,)\n"
     ]
    }
   ],
   "source": [
    "print('Training dt3 Shape:', X_train.shape)\n",
    "print('Training speed Shape:', y_train.shape)\n",
    "print('Testing dt3 Shape:', X_test.shape)\n",
    "print('Testing speed Shape:', y_test.shape)"
   ]
  },
  {
   "cell_type": "markdown",
   "metadata": {},
   "source": [
    "## linearRegression"
   ]
  },
  {
   "cell_type": "code",
   "execution_count": 21,
   "metadata": {},
   "outputs": [
    {
     "name": "stdout",
     "output_type": "stream",
     "text": [
      "CPU times: user 51 s, sys: 1min 25s, total: 2min 16s\n",
      "Wall time: 14.9 s\n"
     ]
    }
   ],
   "source": [
    "lm = LinearRegression()\n",
    "% time model = lm.fit(X_train, y_train)"
   ]
  },
  {
   "cell_type": "code",
   "execution_count": 22,
   "metadata": {},
   "outputs": [],
   "source": [
    "predictions = lm.predict(X_test)"
   ]
  },
  {
   "cell_type": "markdown",
   "metadata": {},
   "source": [
    "### RMSLE"
   ]
  },
  {
   "cell_type": "code",
   "execution_count": 24,
   "metadata": {},
   "outputs": [],
   "source": [
    "def rmsle(y,y_, convertExp = True):\n",
    "    if convertExp:\n",
    "        y = np.exp(y),\n",
    "        y_ = np.exp(y_)\n",
    "    log1 = np.nan_to_num(np.array([np.log(v+1) for v in y]))\n",
    "    log2 = np.nan_to_num(np.array([np.log(v+1) for v in y_]))\n",
    "    calc = (log1 - log2) ** 2\n",
    "    return np.sqrt(np.mean(calc))"
   ]
  },
  {
   "cell_type": "code",
   "execution_count": 25,
   "metadata": {},
   "outputs": [],
   "source": [
    "RMSLE = rmsle(y_test, predictions,convertExp = False)"
   ]
  },
  {
   "cell_type": "code",
   "execution_count": 26,
   "metadata": {},
   "outputs": [],
   "source": [
    "r2_test = r2_score(y_test, predictions)"
   ]
  },
  {
   "cell_type": "code",
   "execution_count": 28,
   "metadata": {},
   "outputs": [
    {
     "name": "stdout",
     "output_type": "stream",
     "text": [
      "RMSLE : 0.352792462892  //  R^2 : 0.348647962338\n"
     ]
    }
   ],
   "source": [
    "print(\"RMSLE : \"+str(RMSLE)+\"  //  R^2 : \"+ str(r2_test))"
   ]
  },
  {
   "cell_type": "markdown",
   "metadata": {},
   "source": [
    "## GRAPH"
   ]
  },
  {
   "cell_type": "code",
   "execution_count": 29,
   "metadata": {},
   "outputs": [
    {
     "data": {
      "image/png": "[encoded data removed]",
      "text/plain": [
       "<matplotlib.figure.Figure at 0x7f0fb39a7ef0>"
      ]
     },
     "metadata": {},
     "output_type": "display_data"
    }
   ],
   "source": [
    "plt.scatter(y_test,predictions)\n",
    "plt.plot(np.arange(0, 120), np.arange(0,120), label=\"r^2=\" + str(round(r2_test,3)), c=\"r\")\n",
    "plt.legend(loc=\"lower right\")\n",
    "plt.title(\"RandomForest Regression\")\n",
    "plt.xlabel(\"y_test\")\n",
    "plt.ylabel(\"y_predicted\")\n",
    "plt.show()"
   ]
  }
 ],
 "metadata": {
  "kernelspec": {
   "display_name": "Python 3",
   "language": "python",
   "name": "python3"
  },
  "language_info": {
   "codemirror_mode": {
    "name": "ipython",
    "version": 3
   },
   "file_extension": ".py",
   "mimetype": "text/x-python",
   "name": "python",
   "nbconvert_exporter": "python",
   "pygments_lexer": "ipython3",
   "version": "3.6.3"
  }
 },
 "nbformat": 4,
 "nbformat_minor": 2
}
